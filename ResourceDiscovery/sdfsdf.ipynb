{
 "cells": [
  {
   "cell_type": "code",
   "execution_count": null,
   "metadata": {},
   "outputs": [],
   "source": [
    "import cgi\n",
    "from curses import echo\n",
    "import sys\n",
    "from time import sleep\n",
    "from tkinter import PIESLICE\n",
    "from urllib import request\n",
    "import aiohttp\n",
    "import aiofiles\n",
    "import os\n",
    "import asyncio\n",
    "import cchardet as chardet\n",
    "import magic\n",
    "from bs4 import BeautifulSoup\n",
    "from numba import jit\n",
    "\n",
    "@jit(nopython=True)\n",
    "def find_data_format(content,content_type=None,content_encoding=None): \n",
    "    m_mime_encoding = magic.Magic(mime_encoding=True)\n",
    "    if content_type is None:\n",
    "        content_type = magic.from_buffer(content, mime=True)\n",
    "    if content_encoding is None:\n",
    "        mime, options = cgi.parse_header(content_type)\n",
    "        if \"charset\" in options.keys():\n",
    "            content_encoding = options[\"charset\"]\n",
    "        else:\n",
    "            content_encoding = chardet.detect(content)['encoding']\n",
    "    if content_encoding is None:\n",
    "        content_encoding = m_mime_encoding.from_buffer(content)\n",
    "    return content,content_encoding,content_type"
   ]
  }
 ],
 "metadata": {
  "language_info": {
   "name": "python"
  },
  "orig_nbformat": 4
 },
 "nbformat": 4,
 "nbformat_minor": 2
}
