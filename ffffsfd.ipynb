{
 "cells": [
  {
   "cell_type": "code",
   "execution_count": 107,
   "metadata": {},
   "outputs": [
    {
     "name": "stdout",
     "output_type": "stream",
     "text": [
      "AsyncIOMotorClient(MongoClient(host=['localhost:27017'], document_class=dict, tz_aware=False, connect=False, driver=DriverInfo(name='Motor', version='2.5.1', platform='asyncio')))\n"
     ]
    }
   ],
   "source": [
    "import motor.motor_asyncio\n",
    "client = motor.motor_asyncio.AsyncIOMotorClient()\n",
    "print(client)\n",
    "db = client.test_database\n",
    "collection = db.test_collection\n",
    "document =   [\n",
    "   {  \"results\": [ { \"product\": \"abc\", \"score\": 10 },\n",
    "                            { \"product\": \"xyz\", \"score\": 5 } ] },\n",
    "   {  \"results\": [ { \"product\": \"abc\", \"score\": 8 },\n",
    "                            { \"product\": \"xyz\", \"score\": 7 } ] },\n",
    "   {  \"results\": [ { \"product\": \"abc\", \"score\": 7 },\n",
    "                            { \"product\": \"xyz\", \"score\": 8 } ] },\n",
    "   { \"results\": [ { \"product\": \"abc\", \"score\": 7 },\n",
    "                            { \"product\": \"def\", \"score\": 8 } ] }\n",
    "] \n",
    "result = await collection.insert_many(document)"
   ]
  },
  {
   "cell_type": "code",
   "execution_count": 112,
   "metadata": {},
   "outputs": [
    {
     "name": "stdout",
     "output_type": "stream",
     "text": [
      "{'_id': 3, 'results': [{'product': 'abc', 'score': 7}, {'product': 'xyz', 'score': 8}]}\n"
     ]
    }
   ],
   "source": [
    "result2 =  await collection.find_one(   { \"results\": { \"$elemMatch\": { \"product\": \"xyz\", \"score\":  8 } } })\n",
    "print(result2)"
   ]
  },
  {
   "cell_type": "code",
   "execution_count": 65,
   "metadata": {},
   "outputs": [
    {
     "name": "stdout",
     "output_type": "stream",
     "text": [
      "None\n"
     ]
    }
   ],
   "source": [
    "scrap = client.scrap\n",
    "websiteDb = scrap.website\n",
    "result2 =  await websiteDb.find_one()\n",
    "print(result2)"
   ]
  }
 ],
 "metadata": {
  "interpreter": {
   "hash": "36cf16204b8548560b1c020c4e8fb5b57f0e4c58016f52f2d4be01e192833930"
  },
  "kernelspec": {
   "display_name": "Python 3.9.5 64-bit",
   "language": "python",
   "name": "python3"
  },
  "language_info": {
   "codemirror_mode": {
    "name": "ipython",
    "version": 3
   },
   "file_extension": ".py",
   "mimetype": "text/x-python",
   "name": "python",
   "nbconvert_exporter": "python",
   "pygments_lexer": "ipython3",
   "version": "3.9.5"
  },
  "orig_nbformat": 4
 },
 "nbformat": 4,
 "nbformat_minor": 2
}
