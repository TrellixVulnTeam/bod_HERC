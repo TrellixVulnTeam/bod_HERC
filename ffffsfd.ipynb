{
 "cells": [
  {
   "cell_type": "code",
   "execution_count": 17,
   "metadata": {},
   "outputs": [
    {
     "ename": "PluginException",
     "evalue": "No plugin registered for (text/html, <class 'rdflib.parser.Parser'>)",
     "output_type": "error",
     "traceback": [
      "\u001b[0;31m---------------------------------------------------------------------------\u001b[0m",
      "\u001b[0;31mKeyError\u001b[0m                                  Traceback (most recent call last)",
      "File \u001b[0;32m~/.local/lib/python3.9/site-packages/rdflib/plugin.py:107\u001b[0m, in \u001b[0;36mget\u001b[0;34m(name, kind)\u001b[0m\n\u001b[1;32m    <a href='file:///home/william/.local/lib/python3.9/site-packages/rdflib/plugin.py?line=105'>106</a>\u001b[0m \u001b[39mtry\u001b[39;00m:\n\u001b[0;32m--> <a href='file:///home/william/.local/lib/python3.9/site-packages/rdflib/plugin.py?line=106'>107</a>\u001b[0m     p \u001b[39m=\u001b[39m _plugins[(name, kind)]\n\u001b[1;32m    <a href='file:///home/william/.local/lib/python3.9/site-packages/rdflib/plugin.py?line=107'>108</a>\u001b[0m \u001b[39mexcept\u001b[39;00m \u001b[39mKeyError\u001b[39;00m:\n",
      "\u001b[0;31mKeyError\u001b[0m: ('text/html', <class 'rdflib.parser.Parser'>)",
      "\nDuring handling of the above exception, another exception occurred:\n",
      "\u001b[0;31mPluginException\u001b[0m                           Traceback (most recent call last)",
      "\u001b[1;32m/home/william/Code/Python/bod/ffffsfd.ipynb Cell 1'\u001b[0m in \u001b[0;36m<module>\u001b[0;34m\u001b[0m\n\u001b[1;32m      <a href='vscode-notebook-cell:/home/william/Code/Python/bod/ffffsfd.ipynb#ch0000003?line=3'>4</a>\u001b[0m g \u001b[39m=\u001b[39m Graph()\n\u001b[1;32m      <a href='vscode-notebook-cell:/home/william/Code/Python/bod/ffffsfd.ipynb#ch0000003?line=5'>6</a>\u001b[0m \u001b[39m# Parse in an RDF file hosted on the Internet\u001b[39;00m\n\u001b[0;32m----> <a href='vscode-notebook-cell:/home/william/Code/Python/bod/ffffsfd.ipynb#ch0000003?line=6'>7</a>\u001b[0m g\u001b[39m.\u001b[39;49mparse(\u001b[39m\"\u001b[39;49m\u001b[39mhttps://www.youtube.com/watch?v=90YdQHjjieg\u001b[39;49m\u001b[39m\"\u001b[39;49m,\u001b[39mformat\u001b[39;49m\u001b[39m=\u001b[39;49m\u001b[39m\"\u001b[39;49m\u001b[39mtext/html\u001b[39;49m\u001b[39m\"\u001b[39;49m)\n\u001b[1;32m      <a href='vscode-notebook-cell:/home/william/Code/Python/bod/ffffsfd.ipynb#ch0000003?line=8'>9</a>\u001b[0m \u001b[39mfor\u001b[39;00m subj, pred, obj \u001b[39min\u001b[39;00m g:\n\u001b[1;32m     <a href='vscode-notebook-cell:/home/william/Code/Python/bod/ffffsfd.ipynb#ch0000003?line=9'>10</a>\u001b[0m     \u001b[39mprint\u001b[39m(subj)\n",
      "File \u001b[0;32m~/.local/lib/python3.9/site-packages/rdflib/graph.py:1250\u001b[0m, in \u001b[0;36mGraph.parse\u001b[0;34m(self, source, publicID, format, location, file, data, **args)\u001b[0m\n\u001b[1;32m   <a href='file:///home/william/.local/lib/python3.9/site-packages/rdflib/graph.py?line=1247'>1248</a>\u001b[0m         \u001b[39mformat\u001b[39m \u001b[39m=\u001b[39m \u001b[39m\"\u001b[39m\u001b[39mturtle\u001b[39m\u001b[39m\"\u001b[39m\n\u001b[1;32m   <a href='file:///home/william/.local/lib/python3.9/site-packages/rdflib/graph.py?line=1248'>1249</a>\u001b[0m         could_not_guess_format \u001b[39m=\u001b[39m \u001b[39mTrue\u001b[39;00m\n\u001b[0;32m-> <a href='file:///home/william/.local/lib/python3.9/site-packages/rdflib/graph.py?line=1249'>1250</a>\u001b[0m parser \u001b[39m=\u001b[39m plugin\u001b[39m.\u001b[39;49mget(\u001b[39mformat\u001b[39;49m, Parser)()\n\u001b[1;32m   <a href='file:///home/william/.local/lib/python3.9/site-packages/rdflib/graph.py?line=1250'>1251</a>\u001b[0m \u001b[39mtry\u001b[39;00m:\n\u001b[1;32m   <a href='file:///home/william/.local/lib/python3.9/site-packages/rdflib/graph.py?line=1251'>1252</a>\u001b[0m     parser\u001b[39m.\u001b[39mparse(source, \u001b[39mself\u001b[39m, \u001b[39m*\u001b[39m\u001b[39m*\u001b[39margs)\n",
      "File \u001b[0;32m~/.local/lib/python3.9/site-packages/rdflib/plugin.py:109\u001b[0m, in \u001b[0;36mget\u001b[0;34m(name, kind)\u001b[0m\n\u001b[1;32m    <a href='file:///home/william/.local/lib/python3.9/site-packages/rdflib/plugin.py?line=106'>107</a>\u001b[0m     p \u001b[39m=\u001b[39m _plugins[(name, kind)]\n\u001b[1;32m    <a href='file:///home/william/.local/lib/python3.9/site-packages/rdflib/plugin.py?line=107'>108</a>\u001b[0m \u001b[39mexcept\u001b[39;00m \u001b[39mKeyError\u001b[39;00m:\n\u001b[0;32m--> <a href='file:///home/william/.local/lib/python3.9/site-packages/rdflib/plugin.py?line=108'>109</a>\u001b[0m     \u001b[39mraise\u001b[39;00m PluginException(\u001b[39m\"\u001b[39m\u001b[39mNo plugin registered for (\u001b[39m\u001b[39m%s\u001b[39;00m\u001b[39m, \u001b[39m\u001b[39m%s\u001b[39;00m\u001b[39m)\u001b[39m\u001b[39m\"\u001b[39m \u001b[39m%\u001b[39m (name, kind))\n\u001b[1;32m    <a href='file:///home/william/.local/lib/python3.9/site-packages/rdflib/plugin.py?line=109'>110</a>\u001b[0m \u001b[39mreturn\u001b[39;00m p\u001b[39m.\u001b[39mgetClass()\n",
      "\u001b[0;31mPluginException\u001b[0m: No plugin registered for (text/html, <class 'rdflib.parser.Parser'>)"
     ]
    }
   ],
   "source": [
    "from rdflib import Graph\n",
    "\n",
    "# Create a Graph\n",
    "g = Graph()\n",
    "\n",
    "# Parse in an RDF file hosted on the Internet\n",
    "g.parse(\"https://www.youtube.com/watch?v=90YdQHjjieg\",format=\"text/html\")\n",
    "\n",
    "for subj, pred, obj in g:\n",
    "    print(subj)\n"
   ]
  }
 ],
 "metadata": {
  "interpreter": {
   "hash": "36cf16204b8548560b1c020c4e8fb5b57f0e4c58016f52f2d4be01e192833930"
  },
  "kernelspec": {
   "display_name": "Python 3.9.5 64-bit",
   "language": "python",
   "name": "python3"
  },
  "language_info": {
   "codemirror_mode": {
    "name": "ipython",
    "version": 3
   },
   "file_extension": ".py",
   "mimetype": "text/x-python",
   "name": "python",
   "nbconvert_exporter": "python",
   "pygments_lexer": "ipython3",
   "version": "3.9.5"
  },
  "orig_nbformat": 4
 },
 "nbformat": 4,
 "nbformat_minor": 2
}
