{
 "cells": [
  {
   "cell_type": "code",
   "execution_count": 747,
   "metadata": {},
   "outputs": [
    {
     "name": "stdout",
     "output_type": "stream",
     "text": [
      "{'_id': ObjectId('625d3736c512cd2c34d8c820'), 'to_url': 'https://sco.wikipedia.org', 'url_from': [''], 'datetime': 1650304618.983503, 'points': [{'where': 'wikidata', 'path': '/wiki/Main_Page', 'type': 'website', 'data': {'item': 'Q1444686'}, 'datetime': 1650303607.051898}]}\n"
     ]
    }
   ],
   "source": [
    "from urllib.parse import urljoin\n",
    "from pymongo import MongoClient\n",
    "client = MongoClient()\n",
    "scrap = client.scrap\n",
    "wikidataDb = scrap.website\n",
    "for places in wikidataDb.aggregate([{\"$sample\": {\"size\": 1}}]):\n",
    "            print(places)"
   ]
  }
 ],
 "metadata": {
  "interpreter": {
   "hash": "36cf16204b8548560b1c020c4e8fb5b57f0e4c58016f52f2d4be01e192833930"
  },
  "kernelspec": {
   "display_name": "Python 3.9.5 64-bit",
   "language": "python",
   "name": "python3"
  },
  "language_info": {
   "codemirror_mode": {
    "name": "ipython",
    "version": 3
   },
   "file_extension": ".py",
   "mimetype": "text/x-python",
   "name": "python",
   "nbconvert_exporter": "python",
   "pygments_lexer": "ipython3",
   "version": "3.9.5"
  },
  "orig_nbformat": 4
 },
 "nbformat": 4,
 "nbformat_minor": 2
}
