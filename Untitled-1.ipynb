{
 "cells": [
  {
   "cell_type": "code",
   "execution_count": 184,
   "metadata": {},
   "outputs": [],
   "source": [
    "from qwikidata.entity import WikidataItem, WikidataLexeme, WikidataProperty\n",
    "from qwikidata.linked_data_interface import get_entity_dict_from_api\n",
    "from qwikidata.datavalue import WikibaseEntityId,Time,Quantity,GlobeCoordinate\n",
    "\n"
   ]
  },
  {
   "cell_type": "code",
   "execution_count": 194,
   "metadata": {},
   "outputs": [
    {
     "name": "stdout",
     "output_type": "stream",
     "text": [
      "P31 : Q5\n",
      "P21 : Q6581097\n",
      "P106 : Q214917\n",
      "P106 : Q28389\n",
      "P106 : Q6625963\n",
      "P106 : Q4853732\n",
      "P106 : Q18844224\n",
      "P106 : Q245068\n",
      "P106 : Q36180\n",
      "P800 : Q25169\n",
      "P800 : Q20736364\n",
      "P800 : Q7758404\n",
      "P569 : +1952-03-11T00:00:00Z\n",
      "P19 : Q350\n",
      "P570 : +2001-05-11T00:00:00Z\n",
      "P1196 : Q3739104\n",
      "P509 : Q12152\n",
      "P20 : Q159288\n",
      "P119 : Q533697\n",
      "P735 : Q463035\n",
      "P735 : Q19688263\n",
      "P734 : Q351735\n",
      "P27 : Q145\n",
      "P551 : Q84\n",
      "P551 : Q909993\n",
      "P103 : Q1860\n",
      "P22 : Q14623675\n",
      "P25 : Q14623678\n",
      "P40 : Q14623683\n",
      "P69 : Q691283\n",
      "P69 : Q4961791\n",
      "P108 : Q9531\n",
      "P108 : Q3520623\n",
      "P1411 : Q3414212\n",
      "P1411 : Q2576795\n",
      "P910 : Q8935487\n",
      "P1303 : Q6607\n",
      "P3373 : Q14623673\n",
      "P136 : Q24925\n",
      "P136 : Q40831\n",
      "P136 : Q128758\n",
      "P26 : Q14623681\n",
      "P463 : Q857679\n",
      "P463 : Q5610831\n",
      "P1412 : Q1860\n",
      "P2650 : Q662893\n",
      "P485 : Q67074906\n",
      "P1343 : Q67311526\n",
      "P6886 : Q1860\n",
      "P1424 : Q22898962\n",
      "WikidataClaimGroup(property_id=None, claims=[])\n",
      "P7763 : Q73555012\n",
      "P1889 : Q21454969\n",
      "P172 : Q7994501\n",
      "P937 : Q84\n",
      "P1340 : Q17122705\n",
      "P101 : Q24925\n",
      "P166 : Q2687578\n",
      "P7084 : Q8722666\n"
     ]
    }
   ],
   "source": [
    "q_dict = get_entity_dict_from_api(\"Q42\")\n",
    "q_ = WikidataItem(q_dict)\n",
    "claim_groups = q_.get_truthy_claim_groups()\n",
    "for claim in q_dict[\"claims\"]:\n",
    "    claims = claim_groups[claim]\n",
    "    if len(claims) > 0:\n",
    "        for claim in claims:\n",
    "            try:\n",
    "                if isinstance(claim.mainsnak.datavalue , GlobeCoordinate):\n",
    "                    value = claim.mainsnak.datavalue.value\n",
    "                    print(\"GlobeCoordinate\")\n",
    "                if isinstance(claim.mainsnak.datavalue , Time):\n",
    "                    value = claim.mainsnak.datavalue.value\n",
    "                    print(claim.property_id,\":\",value[\"time\"])\n",
    "                    print(value['type'])\n",
    "                    continue\n",
    "                if isinstance(claim.mainsnak.datavalue , WikibaseEntityId):\n",
    "                    value = claim.mainsnak.datavalue.value\n",
    "                    print(claim.property_id,\":\",value['id'])\n",
    "                    print(value['type'])\n",
    "                    continue\n",
    "            except:\n",
    "                pass\n",
    "                \n",
    "\n",
    "    else:\n",
    "        print(claims)\n",
    "    "
   ]
  }
 ],
 "metadata": {
  "interpreter": {
   "hash": "36cf16204b8548560b1c020c4e8fb5b57f0e4c58016f52f2d4be01e192833930"
  },
  "kernelspec": {
   "display_name": "Python 3.9.5 64-bit",
   "language": "python",
   "name": "python3"
  },
  "language_info": {
   "codemirror_mode": {
    "name": "ipython",
    "version": 3
   },
   "file_extension": ".py",
   "mimetype": "text/x-python",
   "name": "python",
   "nbconvert_exporter": "python",
   "pygments_lexer": "ipython3",
   "version": "3.9.5"
  },
  "orig_nbformat": 4
 },
 "nbformat": 4,
 "nbformat_minor": 2
}
