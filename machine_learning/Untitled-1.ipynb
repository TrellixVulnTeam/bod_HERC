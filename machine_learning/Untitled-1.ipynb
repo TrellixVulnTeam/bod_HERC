{
 "cells": [
  {
   "cell_type": "code",
   "execution_count": 33,
   "metadata": {},
   "outputs": [],
   "source": [
    "from pymongo import MongoClient\n",
    "client = MongoClient()\n",
    "scrap = client.scrap\n",
    "wikidataDb = scrap.website\n",
    "places = wikidataDb.aggregate([{\"$sample\": {\"size\": 1}}])\n"
   ]
  },
  {
   "cell_type": "code",
   "execution_count": 34,
   "metadata": {
    "dotnet_interactive": {
     "language": "csharp"
    }
   },
   "outputs": [
    {
     "name": "stdout",
     "output_type": "stream",
     "text": [
      "dict_keys(['_id', 'to_url', 'datetime', 'points'])\n",
      "[{'where': 'wikidata', 'path': '/', 'type': 'website', 'datetime': 1652008377.9141104, 'data': [{'P31': 'Q15156455'}, {'P407': 'Q188'}, {'P127': 'Q180'}, {'P137': 'Q180'}], 'prop': 'P856', 'item': 'Q15522295'}]\n"
     ]
    }
   ],
   "source": [
    "for place in places:\n",
    "    print(place.keys())\n",
    "    print(place[\"points\"])\n"
   ]
  },
  {
   "cell_type": "markdown",
   "metadata": {},
   "source": [
    "prop\n",
    "item\n",
    "to_utl"
   ]
  }
 ],
 "metadata": {
  "interpreter": {
   "hash": "36cf16204b8548560b1c020c4e8fb5b57f0e4c58016f52f2d4be01e192833930"
  },
  "kernelspec": {
   "display_name": "Python 3.9.5 64-bit",
   "language": "python",
   "name": "python3"
  },
  "language_info": {
   "codemirror_mode": {
    "name": "ipython",
    "version": 3
   },
   "file_extension": ".py",
   "mimetype": "text/x-python",
   "name": "python",
   "nbconvert_exporter": "python",
   "pygments_lexer": "ipython3",
   "version": "3.9.5"
  },
  "orig_nbformat": 4
 },
 "nbformat": 4,
 "nbformat_minor": 2
}
