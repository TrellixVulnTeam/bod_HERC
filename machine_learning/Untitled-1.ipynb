{
 "cells": [
  {
   "cell_type": "code",
   "execution_count": 2,
   "metadata": {},
   "outputs": [
    {
     "name": "stdout",
     "output_type": "stream",
     "text": [
      "{'_id': ObjectId('6287de6c4197cbfbd465e396'), 'to_url': 'http://www.limburg.nl', 'datetime': 1653073248.7685852, 'points': [{'where': 'wikidata', 'path': '/', 'type': 'website', 'datetime': 1653071467.9985354, 'prop': 'P856', 'item': 'Q1093', 'data': [{'P1456': 'Q2273547', 'type': 'WikibaseEntityId'}, {'P1456': 'Q7477067', 'type': 'WikibaseEntityId'}, {'P1456': 'Q4490012', 'type': 'WikibaseEntityId'}, {'P138': 'Q697787', 'type': 'WikibaseEntityId'}, {'P138': 'Q506739', 'type': 'WikibaseEntityId'}, {'P237': 'Q2551092', 'type': 'WikibaseEntityId'}, {'P17': 'Q55', 'type': 'WikibaseEntityId'}, {'P36': 'Q1309', 'type': 'WikibaseEntityId'}, {'P47': 'Q775', 'type': 'WikibaseEntityId'}, {'P47': 'Q1101', 'type': 'WikibaseEntityId'}, {'P47': 'Q1198', 'type': 'WikibaseEntityId'}, {'P47': 'Q1095', 'type': 'WikibaseEntityId'}, {'P47': 'Q1127', 'type': 'WikibaseEntityId'}, {'P47': 'Q231', 'type': 'WikibaseEntityId'}, {'P47': 'Q6272', 'type': 'WikibaseEntityId'}, {'P30': 'Q46', 'type': 'WikibaseEntityId'}, {'P421': 'Q6655', 'type': 'WikibaseEntityId'}, {'P610': 'Q159860', 'type': 'WikibaseEntityId'}, {'P131': 'Q55', 'type': 'WikibaseEntityId'}, {'P150': 'Q9806', 'type': 'WikibaseEntityId'}, {'P150': 'Q9805', 'type': 'WikibaseEntityId'}, {'P150': 'Q9804', 'type': 'WikibaseEntityId'}, {'P150': 'Q9803', 'type': 'WikibaseEntityId'}, {'P150': 'Q9802', 'type': 'WikibaseEntityId'}, {'P150': 'Q9766', 'type': 'WikibaseEntityId'}, {'P150': 'Q9800', 'type': 'WikibaseEntityId'}, {'P150': 'Q9767', 'type': 'WikibaseEntityId'}, {'P150': 'Q9799', 'type': 'WikibaseEntityId'}, {'P150': 'Q9797', 'type': 'WikibaseEntityId'}, {'P150': 'Q9796', 'type': 'WikibaseEntityId'}, {'P150': 'Q9795', 'type': 'WikibaseEntityId'}, {'P150': 'Q9793', 'type': 'WikibaseEntityId'}, {'P150': 'Q9792', 'type': 'WikibaseEntityId'}, {'P150': 'Q1309', 'type': 'WikibaseEntityId'}, {'P150': 'Q9772', 'type': 'WikibaseEntityId'}, {'P150': 'Q9791', 'type': 'WikibaseEntityId'}, {'P150': 'Q9789', 'type': 'WikibaseEntityId'}, {'P150': 'Q9785', 'type': 'WikibaseEntityId'}, {'P150': 'Q9784', 'type': 'WikibaseEntityId'}, {'P150': 'Q8167972', 'type': 'WikibaseEntityId'}, {'P150': 'Q9769', 'type': 'WikibaseEntityId'}, {'P150': 'Q9781', 'type': 'WikibaseEntityId'}, {'P150': 'Q9780', 'type': 'WikibaseEntityId'}, {'P150': 'Q9768', 'type': 'WikibaseEntityId'}, {'P150': 'Q9771', 'type': 'WikibaseEntityId'}, {'P150': 'Q9777', 'type': 'WikibaseEntityId'}, {'P150': 'Q9775', 'type': 'WikibaseEntityId'}, {'P150': 'Q9770', 'type': 'WikibaseEntityId'}, {'P150': 'Q9774', 'type': 'WikibaseEntityId'}, {'P150': 'Q29957432', 'type': 'WikibaseEntityId'}, {'P150': 'Q9786', 'type': 'WikibaseEntityId'}, {'P150': 'Q9787', 'type': 'WikibaseEntityId'}, {'P150': 'Q9782', 'type': 'WikibaseEntityId'}, {'P150': 'Q28916442', 'type': 'WikibaseEntityId'}, {'P150': 'Q16069768', 'type': 'WikibaseEntityId'}, {'P150': 'Q1025690', 'type': 'WikibaseEntityId'}, {'P150': 'Q73031', 'type': 'WikibaseEntityId'}, {'P150': 'Q927936', 'type': 'WikibaseEntityId'}, {'P150': 'Q1007185', 'type': 'WikibaseEntityId'}, {'P150': 'Q1019525', 'type': 'WikibaseEntityId'}, {'P150': 'Q1146746', 'type': 'WikibaseEntityId'}, {'P150': 'Q631896', 'type': 'WikibaseEntityId'}, {'P150': 'Q1556536', 'type': 'WikibaseEntityId'}, {'P150': 'Q459972', 'type': 'WikibaseEntityId'}, {'P150': 'Q13723051', 'type': 'WikibaseEntityId'}, {'P150': 'Q72842', 'type': 'WikibaseEntityId'}, {'P150': 'Q1615373', 'type': 'WikibaseEntityId'}, {'P150': 'Q2017499', 'type': 'WikibaseEntityId'}, {'P150': 'Q13729224', 'type': 'WikibaseEntityId'}, {'P150': 'Q2202186', 'type': 'WikibaseEntityId'}, {'P150': 'Q945045', 'type': 'WikibaseEntityId'}, {'P150': 'Q2473420', 'type': 'WikibaseEntityId'}, {'P150': 'Q34980845', 'type': 'WikibaseEntityId'}, {'P150': 'Q1019522', 'type': 'WikibaseEntityId'}, {'P150': 'Q815428', 'type': 'WikibaseEntityId'}, {'P150': 'Q40688599', 'type': 'WikibaseEntityId'}, {'P150': 'Q2925965', 'type': 'WikibaseEntityId'}, {'P150': 'Q1996074', 'type': 'WikibaseEntityId'}, {'P150': 'Q73022', 'type': 'WikibaseEntityId'}, {'P150': 'Q73570', 'type': 'WikibaseEntityId'}, {'P150': 'Q51627029', 'type': 'WikibaseEntityId'}, {'P910': 'Q7233007', 'type': 'WikibaseEntityId'}, {'P31': 'Q134390', 'type': 'WikibaseEntityId'}, {'P1464': 'Q18667501', 'type': 'WikibaseEntityId'}, {'P1465': 'Q18598166', 'type': 'WikibaseEntityId'}, {'P1792': 'Q6486533', 'type': 'WikibaseEntityId'}, {'P1082': '+1120006', 'type': 'Quantity'}, {'P85': 'Q1825418', 'type': 'WikibaseEntityId'}, {'P163': 'Q2133401', 'type': 'WikibaseEntityId'}, {'P2046': '+2153.0', 'type': 'Quantity'}, {'P1313': 'Q28801911', 'type': 'WikibaseEntityId'}, {'P571': '+1867-00-00T00:00:00Z', 'type': 'Time'}, {'P1365': 'Q376009', 'type': 'WikibaseEntityId'}, {'P2936': 'Q102172', 'type': 'WikibaseEntityId'}, {'P1343': 'Q2041543', 'type': 'WikibaseEntityId'}, {'P1889': 'Q1095', 'type': 'WikibaseEntityId'}, {'P1889': 'Q16026', 'type': 'WikibaseEntityId'}, {'P1889': 'Q506739', 'type': 'WikibaseEntityId'}, {'P8744': 'Q100866141', 'type': 'WikibaseEntityId'}, {'P8687': '+19950', 'type': 'Quantity'}]}, {'where': 'wikidata', 'path': '/', 'type': 'website', 'datetime': 1653073248.768587, 'data': [{'P1082': '+1120006', 'type': 'Quantity'}, {'P2046': '+2153.0', 'type': 'Quantity'}, {'P571': '+1867-00-00T00:00:00Z', 'type': 'Time'}, {'P8687': '+19950', 'type': 'Quantity'}], 'value': None}]}\n"
     ]
    }
   ],
   "source": [
    "from pymongo import MongoClient\n",
    "client = MongoClient()\n",
    "scrap = client.scrap\n",
    "wikidataDb = scrap.website\n",
    "places = wikidataDb.aggregate([{\"$sample\": {\"size\": 1}}])\n",
    "for i in places:\n",
    "    print(i)\n"
   ]
  }
 ],
 "metadata": {
  "interpreter": {
   "hash": "36cf16204b8548560b1c020c4e8fb5b57f0e4c58016f52f2d4be01e192833930"
  },
  "kernelspec": {
   "display_name": "Python 3.9.5 64-bit",
   "language": "python",
   "name": "python3"
  },
  "language_info": {
   "codemirror_mode": {
    "name": "ipython",
    "version": 3
   },
   "file_extension": ".py",
   "mimetype": "text/x-python",
   "name": "python",
   "nbconvert_exporter": "python",
   "pygments_lexer": "ipython3",
   "version": "3.9.5"
  },
  "orig_nbformat": 4
 },
 "nbformat": 4,
 "nbformat_minor": 2
}
