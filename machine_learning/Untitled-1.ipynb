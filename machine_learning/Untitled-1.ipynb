{
 "cells": [
  {
   "cell_type": "code",
   "execution_count": 7,
   "metadata": {},
   "outputs": [
    {
     "name": "stdout",
     "output_type": "stream",
     "text": [
      "{'where': 'wikidata', 'path': '/rss.xml', 'type': 'feed', 'datetime': 1653111474.6827576, 'data': None, 'prop': None, 'value': None, 'item': None}\n"
     ]
    }
   ],
   "source": [
    "from pymongo import MongoClient\n",
    "client = MongoClient()\n",
    "scrap = client.scrap\n",
    "wikidataDb = scrap.website\n",
    "Found = False\n",
    "while not Found:\n",
    "    places = wikidataDb.aggregate([{\"$sample\": {\"size\": 1}}])\n",
    "    for i in places:\n",
    "        for point in i[\"points\"]:\n",
    "            if \"website\" != point[\"type\"]:\n",
    "                print(point)\n",
    "                Found =True\n",
    "                break\n"
   ]
  }
 ],
 "metadata": {
  "interpreter": {
   "hash": "36cf16204b8548560b1c020c4e8fb5b57f0e4c58016f52f2d4be01e192833930"
  },
  "kernelspec": {
   "display_name": "Python 3.9.5 64-bit",
   "language": "python",
   "name": "python3"
  },
  "language_info": {
   "codemirror_mode": {
    "name": "ipython",
    "version": 3
   },
   "file_extension": ".py",
   "mimetype": "text/x-python",
   "name": "python",
   "nbconvert_exporter": "python",
   "pygments_lexer": "ipython3",
   "version": "3.9.5"
  },
  "orig_nbformat": 4
 },
 "nbformat": 4,
 "nbformat_minor": 2
}
